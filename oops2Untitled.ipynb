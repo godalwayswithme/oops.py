{
 "cells": [
  {
   "cell_type": "raw",
   "id": "31a2ac10-f6c5-4e98-9fb8-f6d29dc7de09",
   "metadata": {},
   "source": [
    "    Constructor -----"
   ]
  },
  {
   "cell_type": "raw",
   "id": "d7c1d598-78cb-429d-a756-eee67f67dd08",
   "metadata": {},
   "source": [
    "1. A constructor in Python is a special method within a class that is automatically called when an instance of that class is created. Its purpose is to initialize the attributes of the object being created. By defining a constructor, you can ensure that every object of the class starts with a defined state.\n"
   ]
  },
  {
   "cell_type": "raw",
   "id": "b8e3a5bc-f79d-4005-b2b0-93f949865f45",
   "metadata": {},
   "source": [
    "2. Parameterless constructor: This constructor takes no parameters. It is often used when the initialization of attributes does not require any external input.\n",
    "Parameterized constructor: This constructor accepts parameters, allowing for customization of the object's initial state based on the values passed during object creation.\n"
   ]
  },
  {
   "cell_type": "raw",
   "id": "0fb3c953-69b1-462f-9347-65e820ad833e",
   "metadata": {},
   "source": [
    "3. In Python, you define a constructor using the __init__() method within a class. Here's an example-"
   ]
  },
  {
   "cell_type": "code",
   "execution_count": null,
   "id": "de383d92-512f-49d6-8397-06139f273c99",
   "metadata": {},
   "outputs": [],
   "source": [
    "class MyClass:\n",
    "    def __init__(self, parameter1, parameter2):\n",
    "        self.attribute1 = parameter1\n",
    "        self.attribute2 = parameter2\n"
   ]
  },
  {
   "cell_type": "raw",
   "id": "ba15f720-b1c3-4f04-a59b-47b5cc980129",
   "metadata": {},
   "source": [
    "4. The __init__ method in Python is a special method used for initializing newly created objects. It serves as the constructor for a class. When you create an instance of a class, Python automatically calls this method. Its role is to initialize the object's attributes to specified values, typically passed as parameters.\n"
   ]
  },
  {
   "cell_type": "raw",
   "id": "bc6fcf3b-8489-44b6-afe5-1a055c3d3bdd",
   "metadata": {},
   "source": [
    "5.Here's how you would define a Person class with a constructor initializing name and age attributes, along with an example of creating an object of this class:\n"
   ]
  },
  {
   "cell_type": "code",
   "execution_count": null,
   "id": "fedb61eb-653d-4627-934c-32544dbe0019",
   "metadata": {},
   "outputs": [],
   "source": [
    "class Person:\n",
    "    def __init__(self, name, age):\n",
    "        self.name = name\n",
    "        self.age = age\n",
    "\n",
    "\n",
    "person1 = Person(\"Alice\", 30)\n",
    "\n",
    "\n",
    "print(person1.name)  \n",
    "print(person1.age)   \n"
   ]
  },
  {
   "cell_type": "raw",
   "id": "6d19b5e0-6774-42b1-86d9-c595ca51968e",
   "metadata": {},
   "source": [
    "6. In Python, you typically don't call the constructor explicitly; it's automatically invoked when you create an instance of a class. However, if you really need to call the constructor explicitly for some reason, you can do so using the class name. Here's an example:\n"
   ]
  },
  {
   "cell_type": "code",
   "execution_count": null,
   "id": "604002e0-7d8f-4903-ac64-63f648132497",
   "metadata": {},
   "outputs": [],
   "source": [
    "class MyClass:\n",
    "    def __init__(self):\n",
    "        print(\"Constructor called\")\n",
    "\n",
    "# Explicitly calling the constructor\n",
    "obj = MyClass.__new__(MyClass)\n",
    "MyClass.__init__(obj)\n"
   ]
  },
  {
   "cell_type": "raw",
   "id": "3c18d00b-0550-4fb2-a011-85d3bde72e51",
   "metadata": {},
   "source": [
    "7 .The self parameter in Python constructors (and other methods within a class) refers to the instance of the class itself. It allows you to access and modify attributes and methods of the instance within the class. Here's an example:\n"
   ]
  },
  {
   "cell_type": "code",
   "execution_count": null,
   "id": "86b51368-7bc0-43b9-9d42-54e94c6582fb",
   "metadata": {},
   "outputs": [],
   "source": [
    "class Person:\n",
    "    def __init__(self, name, age):\n",
    "        self.name = name\n",
    "        self.age = age\n",
    "\n",
    "    def display_info(self):\n",
    "        print(\"Name:\", self.name)\n",
    "        print(\"Age:\", self.age)\n",
    "\n",
    "\n",
    "person1 = Person(\"Alice\", 30)\n",
    "person1.display_info()\n"
   ]
  },
  {
   "cell_type": "raw",
   "id": "446a1e83-d09c-4bfb-84dd-adbec175c176",
   "metadata": {},
   "source": [
    "8. In Python, there are no default constructors in the same sense as in some other programming languages. However, if you don't explicitly define a constructor in a class, Python provides a default constructor that doesn't do anything. This default constructor initializes the object without any attributes. Default constructors can be used when you have simple classes that don't require any specific initialization.\n"
   ]
  },
  {
   "cell_type": "code",
   "execution_count": null,
   "id": "d0c9552b-6262-4e15-9fc4-825c3dfde038",
   "metadata": {},
   "outputs": [],
   "source": [
    " # 9. Here's the Rectangle class with a constructor to initialize width and height attributes, along with a method to calculate the area:\n",
    "    \n",
    "class Rectangle:\n",
    "    def __init__(self, width, height):\n",
    "        self.width = width\n",
    "        self.height = height\n",
    "\n",
    "    def calculate_area(self):\n",
    "        return self.width * self.height\n",
    "\n",
    "# Creating an object of the Rectangle class\n",
    "rectangle1 = Rectangle(5, 3)\n",
    "print(\"Area of rectangle:\", rectangle1.calculate_area())  # Output: 15\n",
    "\n"
   ]
  },
  {
   "cell_type": "raw",
   "id": "5169b9a7-3c14-4403-92f0-97a4672e387b",
   "metadata": {},
   "source": [
    "10. Python doesn't support method overloading in the same way as some other languages, so you can't have multiple constructors with different parameter lists like you might in Java or C++. However, you can simulate multiple constructors by using default parameter values and conditional logic within a single constructor. Here's an example:\n"
   ]
  },
  {
   "cell_type": "code",
   "execution_count": null,
   "id": "860d36f7-11d3-4da4-a4f2-39820173628e",
   "metadata": {},
   "outputs": [],
   "source": [
    "class MyClass:\n",
    "    def __init__(self, param1=None, param2=None):\n",
    "        if param1 is not None and param2 is not None:\n",
    "            self.attr1 = param1\n",
    "            self.attr2 = param2\n",
    "        elif param1 is not None:\n",
    "            self.attr1 = param1\n",
    "        elif param2 is not None:\n",
    "            self.attr2 = param2\n",
    "        else:\n",
    "            # Default initialization\n",
    "            self.attr1 = \"default_value1\"\n",
    "            self.attr2 = \"default_value2\"\n"
   ]
  },
  {
   "cell_type": "raw",
   "id": "9638f2d5-2e5f-4673-9352-3e81638eff08",
   "metadata": {},
   "source": [
    "11. \n",
    "Method overloading refers to the ability to define multiple methods in a class with the same name but different parameter lists. The method that gets called is determined by the number and types of arguments passed when the method is invoked. However, Python does not support method overloading in the same way as languages like Java or C++.\n",
    "In Python, method overloading can be achieved through default parameter values and conditional logic within a single method. This is because Python does not allow the same method name to be defined multiple times within a class.\n",
    "\n",
    "The concept of method overloading is not directly related to constructors in Python because Python does not support method overloading with different parameter lists like some other languages do"
   ]
  },
  {
   "cell_type": "raw",
   "id": "de3a770c-b9a3-4a4c-bb99-2974d80f8b51",
   "metadata": {},
   "source": [
    "12. The super() function in Python is used to call methods of the parent class (also called superclass or base class) from a subclass. In the context of constructors, super() is often used to call the constructor of the superclass from the subclass constructor, ensuring proper initialization of inherited attributes.\n",
    "Here's an example:"
   ]
  },
  {
   "cell_type": "code",
   "execution_count": null,
   "id": "32742657-938e-4a6d-922a-8e373a224787",
   "metadata": {},
   "outputs": [],
   "source": [
    "class Parent:\n",
    "    def __init__(self, parent_attr):\n",
    "        self.parent_attr = parent_attr\n",
    "\n",
    "class Child(Parent):\n",
    "    def __init__(self, parent_attr, child_attr):\n",
    "        super().__init__(parent_attr)\n",
    "        self.child_attr = child_attr\n",
    "\n",
    "\n",
    "child_obj = Child(\"parent_value\", \"child_value\")\n",
    "print(child_obj.parent_attr) \n",
    "print(child_obj.child_attr)   "
   ]
  },
  {
   "cell_type": "code",
   "execution_count": null,
   "id": "feeddd7a-09e1-45e8-a538-88a8d0bb0a6e",
   "metadata": {},
   "outputs": [],
   "source": [
    "# 13.\n",
    "class Book:\n",
    "    def __init__(self, title, author, published_year):\n",
    "        self.title = title\n",
    "        self.author = author\n",
    "        self.published_year = published_year\n",
    "\n",
    "    def display_details(self):\n",
    "        print(\"Title:\", self.title)\n",
    "        print(\"Author:\", self.author)\n",
    "        print(\"Published Year:\", self.published_year)\n",
    "\n",
    "# Creating an object of the Book class\n",
    "book1 = Book(\"Python Programming\", \"John Smith\", 2021)\n",
    "book1.display_details()\n"
   ]
  },
  {
   "cell_type": "raw",
   "id": "2f284cdf-99bb-4b8c-afb3-12e9b561f210",
   "metadata": {},
   "source": [
    "14. Differences between constructors and regular methods in Python classes:\n",
    "Constructors are special methods used for initializing objects when they are created, while regular methods are used for performing various actions or operations on objects after they are created.\n",
    "Constructors are automatically called when an object is instantiated, whereas regular methods need to be called explicitly using the object instance.\n",
    "Constructors have a fixed name (__init__), while regular methods can have any name.\n",
    "Constructors typically initialize attributes of the object, while regular methods can perform any kind of functionality, such as calculations, data manipulation, or interacting with other objects."
   ]
  },
  {
   "cell_type": "raw",
   "id": "710a46af-5bf6-480e-a983-b6146bfb2184",
   "metadata": {},
   "source": [
    "15. The self parameter in instance variable initialization within a constructor refers to the instance of the class itself. When you use self within the constructor to initialize instance variables, you're setting attributes specific to that instance of the class. This ensures that each object created from the class has its own set of attributes distinct from other objects of the same class.\n"
   ]
  },
  {
   "cell_type": "raw",
   "id": "8b6958a5-fd9a-46b8-946e-00f04af57264",
   "metadata": {},
   "source": [
    "16. To prevent a class from having multiple instances, you can use a class attribute to track whether an instance has been created or not. Then, in the constructor, you can check if an instance already exists and raise an exception if an attempt is made to create another instance. Here's an example:\n",
    "\n"
   ]
  },
  {
   "cell_type": "code",
   "execution_count": null,
   "id": "0f53fcd9-4e6f-41a4-9930-7c9b4ba765aa",
   "metadata": {},
   "outputs": [],
   "source": [
    "class SingletonClass:\n",
    "    _instance = None\n",
    "\n",
    "    def __new__(cls):\n",
    "        if cls._instance is None:\n",
    "            cls._instance = super().__new__(cls)\n",
    "        else:\n",
    "            raise Exception(\"Singleton class cannot have multiple instances\")\n",
    "        return cls._instance\n",
    "\n",
    "# Creating an instance of SingletonClass\n",
    "singleton_instance = SingletonClass()\n",
    "\n",
    "# Trying to create another instance\n",
    "# This will raise an exception\n",
    "# new_instance = SingletonClass()\n"
   ]
  },
  {
   "cell_type": "code",
   "execution_count": null,
   "id": "bea71582-a596-4b77-8f2a-e011fca970c8",
   "metadata": {},
   "outputs": [],
   "source": [
    "# 17. \n",
    "class Student:\n",
    "    def __init__(self, subjects):\n",
    "        self.subjects = subjects\n",
    "\n",
    "\n",
    "student1 = Student([\"Math\", \"Science\", \"History\"])\n",
    "print(student1.subjects) \n"
   ]
  },
  {
   "cell_type": "raw",
   "id": "6f6dcc57-99ca-4a0e-8355-b77b0ab29159",
   "metadata": {},
   "source": [
    "18. The __del__ method in Python classes is called when an object is about to be destroyed. Its purpose is to perform any cleanup actions before the object is removed from memory. This method is the destructor of a class and is the counterpart to the constructor (__init__). It's important to note that the __del__ method is not commonly used in Python because the Python garbage collector typically handles memory management"
   ]
  },
  {
   "cell_type": "raw",
   "id": "58cdcb67-2105-4036-8acc-eeeb946940c8",
   "metadata": {},
   "source": [
    "19. Constructor chaining in Python refers to calling constructors of parent classes from the constructor of a subclass. This ensures that initialization logic of the parent classes is executed along with the initialization logic of the subclass. Constructor chaining is achieved using the super() function. Here's a practical example:\n"
   ]
  },
  {
   "cell_type": "code",
   "execution_count": null,
   "id": "3a8ae651-d30b-4eea-8bf4-86821374ff29",
   "metadata": {},
   "outputs": [],
   "source": [
    "class Parent:\n",
    "    def __init__(self):\n",
    "        print(\"Parent constructor called\")\n",
    "\n",
    "class Child(Parent):\n",
    "    def __init__(self):\n",
    "        super().__init__()\n",
    "        print(\"Child constructor called\")\n",
    "\n",
    "# Creating an object of the Child class\n",
    "child_obj = Child()\n"
   ]
  },
  {
   "cell_type": "code",
   "execution_count": null,
   "id": "257ecc09-dabb-481a-adec-0c2ae834c183",
   "metadata": {},
   "outputs": [],
   "source": [
    " # 20. \n",
    "class Car:\n",
    "    def __init__(self):\n",
    "        self.make = \"Toyota\"\n",
    "        self.model = \"Camry\"\n",
    "\n",
    "    def display_info(self):\n",
    "        print(\"Make:\", self.make)\n",
    "        print(\"Model:\", self.model)\n",
    "\n",
    "# Creating an object of the Car class\n",
    "car1 = Car()\n",
    "car1.display_info()\n"
   ]
  },
  {
   "cell_type": "code",
   "execution_count": null,
   "id": "6b42fd14-a013-45e4-b6e3-fa591e1c2264",
   "metadata": {},
   "outputs": [],
   "source": [
    "Encapsulation:"
   ]
  },
  {
   "cell_type": "markdown",
   "id": "b648f15e-6045-40b0-bc0b-071853d34966",
   "metadata": {},
   "source": [
    "1.Encapsulation in Python involves bundling the data (attributes) and methods (functions) that operate on the data within a single unit, called a class. Its role in object-oriented programming (OOP) is to hide the internal state of an object and only allow access to it through well-defined interfaces (methods). This promotes data abstraction, information hiding, and modular code design, leading to more manageable and maintainable codebases."
   ]
  },
  {
   "cell_type": "markdown",
   "id": "73214d64-47cb-48e5-9f03-faeb5f83a81a",
   "metadata": {},
   "source": [
    "2.The key principles of encapsulation include:\n",
    "\n",
    "Access control: This refers to controlling the visibility of attributes and methods within a class. Access control allows you to specify which parts of a class are accessible from outside the class.\n",
    "Data hiding: This involves hiding the internal state of an object from the outside world and providing controlled access to it through methods. Data hiding prevents direct manipulation of object attributes and ensures that the object remains in a valid state."
   ]
  },
  {
   "cell_type": "markdown",
   "id": "c059729f-566d-4b96-a3ba-0185cca2c4c3",
   "metadata": {},
   "source": [
    "3.In Python, encapsulation is achieved through access modifiers and naming conventions:\n",
    "\n",
    "Public attributes and methods are accessible from outside the class without any restrictions.\n",
    "Protected attributes and methods are conventionally indicated by prefixing them with a single underscore (_) and are accessible within the class and its subclasses.\n",
    "Private attributes and methods are conventionally indicated by prefixing them with a double underscore (__) and are accessible only within the class itself.\n",
    "Example of encapsulation in Python:\n",
    "\n"
   ]
  },
  {
   "cell_type": "code",
   "execution_count": null,
   "id": "0f8aee3c-a57b-48e4-89ab-d4c93244b92c",
   "metadata": {},
   "outputs": [],
   "source": [
    "class MyClass:\n",
    "    def __init__(self):\n",
    "        self._protected_attribute = \"Protected\"\n",
    "        self.__private_attribute = \"Private\"\n",
    "\n",
    "    def get_private_attribute(self):\n",
    "        return self.__private_attribute\n",
    "\n",
    "    def set_private_attribute(self, value):\n",
    "        self.__private_attribute = value\n",
    "\n",
    "obj = MyClass()\n",
    "print(obj._protected_attribute)  # Accessing protected attribute\n",
    "print(obj.get_private_attribute())  # Accessing private attribute using a method\n",
    "obj.set_private_attribute(\"New value\")  # Modifying private attribute using a method\n"
   ]
  },
  {
   "cell_type": "markdown",
   "id": "693bc8e0-46f8-4b7a-b105-d4968b9fcb84",
   "metadata": {},
   "source": [
    "4.The difference between public, private, and protected access modifiers in Python lies in their visibility and accessibility:\n",
    "\n",
    "Public attributes and methods are accessible from outside the class without any restrictions.\n",
    "Protected attributes and methods are accessible within the class and its subclasses, but not directly from outside the class.\n",
    "Private attributes and methods are accessible only within the class itself and cannot be accessed from outside the class."
   ]
  },
  {
   "cell_type": "markdown",
   "id": "61f53b01-33e2-4e3d-862c-efcf11d95266",
   "metadata": {},
   "source": [
    "5.Here's a Python class called Person with a private attribute __name, along with methods to get and set the name attribute:\n",
    "\n"
   ]
  },
  {
   "cell_type": "code",
   "execution_count": null,
   "id": "eb726a79-bfb5-4fc7-bebf-5fe41539a213",
   "metadata": {},
   "outputs": [],
   "source": [
    "class Person:\n",
    "    def __init__(self, name):\n",
    "        self.__name = name\n",
    "\n",
    "    def get_name(self):\n",
    "        return self.__name\n",
    "\n",
    "    def set_name(self, name):\n",
    "        self.__name = name\n",
    "\n",
    "# Example usage:\n",
    "person1 = Person(\"Alice\")\n",
    "print(person1.get_name())  # Output: Alice\n",
    "\n",
    "person1.set_name(\"Bob\")\n",
    "print(person1.get_name())  # Output: Bob\n"
   ]
  },
  {
   "cell_type": "markdown",
   "id": "175c0cde-62ed-4c39-b2c7-8a68c4b8d225",
   "metadata": {},
   "source": [
    "6.Getter and setter methods in encapsulation serve the purpose of controlling access to private attributes of a class. Getters are used to retrieve the values of private attributes, while setters are used to modify or update the values of private attributes. These methods allow for data validation, error checking, and maintaining consistency in the state of an object."
   ]
  },
  {
   "cell_type": "code",
   "execution_count": null,
   "id": "0608b097-1a41-4b40-a618-c184b4a4c1a4",
   "metadata": {},
   "outputs": [],
   "source": [
    "class Person:\n",
    "    def __init__(self, name):\n",
    "        self.__name = name\n",
    "\n",
    "    def get_name(self):\n",
    "        return self.__name\n",
    "\n",
    "    def set_name(self, name):\n",
    "        if isinstance(name, str):\n",
    "            self.__name = name\n",
    "        else:\n",
    "            print(\"Invalid name format\")\n",
    "\n",
    "person1 = Person(\"Alice\")\n",
    "print(person1.get_name())  # Output: Alice\n",
    "\n",
    "person1.set_name(\"Bob\")\n",
    "print(person1.get_name())  # Output: Bob\n",
    "\n",
    "person1.set_name(123)  # Output: Invalid name format\n"
   ]
  },
  {
   "cell_type": "markdown",
   "id": "479a91a5-c5f5-4e77-841c-55f2426a0a4d",
   "metadata": {},
   "source": [
    "7.Name mangling in Python is a mechanism for making attributes of a class inaccessible from outside the class. It involves prefixing the attribute name with a double underscore (__). Python internally changes the name of the attribute to include the class name, preventing accidental access or overriding of the attribute by subclasses."
   ]
  },
  {
   "cell_type": "code",
   "execution_count": null,
   "id": "dcf93605-0f07-4ea5-8fa7-b24552e5a0f3",
   "metadata": {},
   "outputs": [],
   "source": [
    "class MyClass:\n",
    "    def __init__(self):\n",
    "        self.__private_attribute = \"Private\"\n",
    "\n",
    "obj = MyClass()\n",
    "print(obj.__private_attribute)  # This will raise an AttributeError\n"
   ]
  },
  {
   "cell_type": "markdown",
   "id": "a2b85a27-8756-4dad-86c2-6a6ebafd28b8",
   "metadata": {},
   "source": [
    "8.Here's a Python class called BankAccount with private attributes for account balance and account number, along with methods for depositing and withdrawing money:"
   ]
  },
  {
   "cell_type": "code",
   "execution_count": null,
   "id": "a7d168ba-1998-44be-93b1-29ef9bfd3a83",
   "metadata": {},
   "outputs": [],
   "source": [
    "class BankAccount:\n",
    "    def __init__(self, account_number, initial_balance=0):\n",
    "        self.__account_number = account_number\n",
    "        self.__balance = initial_balance\n",
    "\n",
    "    def deposit(self, amount):\n",
    "        if amount > 0:\n",
    "            self.__balance += amount\n",
    "        else:\n",
    "            print(\"Invalid deposit amount\")\n",
    "\n",
    "    def withdraw(self, amount):\n",
    "        if 0 < amount <= self.__balance:\n",
    "            self.__balance -= amount\n",
    "        else:\n",
    "            print(\"Invalid withdrawal amount\")\n",
    "\n",
    "    def get_balance(self):\n",
    "        return self.__balance\n",
    "\n",
    "# Example usage:\n",
    "account1 = BankAccount(\"123456\", 1000)\n",
    "print(account1.get_balance())  # Output: 1000\n",
    "\n",
    "account1.deposit(500)\n",
    "print(account1.get_balance())  # Output: 1500\n",
    "\n",
    "account1.withdraw(200)\n",
    "print(account1.get_balance())  # Output: 1300\n"
   ]
  },
  {
   "cell_type": "markdown",
   "id": "769d873e-49c1-4bc5-a803-4cb17a95c4f9",
   "metadata": {},
   "source": [
    "9.Encapsulation enhances code maintainability and security by:\n",
    "\n",
    "Modularization: Encapsulation allows for breaking down complex systems into smaller, manageable modules (classes), making it easier to understand, maintain, and extend the code.\n",
    "Data Protection: By hiding the internal state of an object, encapsulation prevents unauthorized access and modification of data, reducing the risk of unintended side effects and improving the robustness of the code.\n",
    "Flexibility: Encapsulation enables changes to the internal implementation of a class without affecting the code that uses it, promoting flexibility and scalability in software development."
   ]
  },
  {
   "cell_type": "markdown",
   "id": "fa99ec3c-021a-4fa8-b608-0afbfe173e96",
   "metadata": {},
   "source": [
    "10.Private attributes in Python can be accessed using name mangling, which involves accessing them using the mangled name, which includes the class name as a prefix followed by the attribute name prefixed with double underscores (__).\n",
    "\n",
    "Example:"
   ]
  },
  {
   "cell_type": "code",
   "execution_count": null,
   "id": "80dbf379-b4f7-4d56-8671-014e26c8da68",
   "metadata": {},
   "outputs": [],
   "source": [
    "class MyClass:\n",
    "    def __init__(self):\n",
    "        self.__private_attribute = \"Private\"\n",
    "\n",
    "obj = MyClass()\n",
    "print(obj._MyClass__private_attribute)  # Accessing private attribute using name mangling\n"
   ]
  },
  {
   "cell_type": "markdown",
   "id": "8692fbf8-3968-44d1-9ea2-6c6f23254ea2",
   "metadata": {},
   "source": [
    "11.Below is a simple Python class hierarchy for a school system, incorporating encapsulation to protect sensitive information:"
   ]
  },
  {
   "cell_type": "code",
   "execution_count": null,
   "id": "3bfb8d61-00b9-485d-818e-f1d9794a73cb",
   "metadata": {},
   "outputs": [],
   "source": [
    "class Student:\n",
    "    def __init__(self, student_id, name):\n",
    "        self.__student_id = student_id\n",
    "        self.__name = name\n",
    "\n",
    "    def get_student_id(self):\n",
    "        return self.__student_id\n",
    "\n",
    "    def get_name(self):\n",
    "        return self.__name\n",
    "\n",
    "\n",
    "class Teacher:\n",
    "    def __init__(self, teacher_id, name):\n",
    "        self.__teacher_id = teacher_id\n",
    "        self.__name = name\n",
    "\n",
    "    def get_teacher_id(self):\n",
    "        return self.__teacher_id\n",
    "\n",
    "    def get_name(self):\n",
    "        return self.__name\n",
    "\n",
    "\n",
    "class Course:\n",
    "    def __init__(self, course_id, name, teacher):\n",
    "        self.__course_id = course_id\n",
    "        self.__name = name\n",
    "        self.__teacher = teacher\n",
    "\n",
    "    def get_course_id(self):\n",
    "        return self.__course_id\n",
    "\n",
    "    def get_name(self):\n",
    "        return self.__name\n",
    "\n",
    "    def get_teacher(self):\n",
    "        return self.__teacher.get_name()\n",
    "\n",
    "\n",
    "# Example usage:\n",
    "teacher = Teacher(\"T001\", \"John Doe\")\n",
    "course = Course(\"C001\", \"Mathematics\", teacher)\n",
    "student = Student(\"S001\", \"Alice Smith\")\n",
    "\n",
    "print(\"Course:\", course.get_name())\n",
    "print(\"Teacher:\", course.get_teacher())\n",
    "print(\"Student:\", student.get_name())\n"
   ]
  },
  {
   "cell_type": "markdown",
   "id": "52000646-8eca-4739-a308-a34bf7434af8",
   "metadata": {},
   "source": [
    "12.Property decorators in Python provide a way to encapsulate attributes by defining getter, setter, and deleter methods for a class attribute. They allow controlled access to attributes while providing a concise syntax. Property decorators are a powerful tool in encapsulation as they allow developers to define custom behavior for attribute access, modification, and deletion."
   ]
  },
  {
   "cell_type": "markdown",
   "id": "5afba343-f21a-4d0c-be09-88c990cefb12",
   "metadata": {},
   "source": [
    "13.Data hiding is the practice of restricting access to certain parts of an object's data. It is important in encapsulation because it prevents external code from directly modifying or accessing sensitive data, ensuring the integrity and consistency of the object's state. Data hiding helps maintain the principle of information hiding, where implementation details are hidden from the outside world, reducing dependencies and promoting modular code design."
   ]
  },
  {
   "cell_type": "code",
   "execution_count": null,
   "id": "3e5f4a2c-3522-445b-b46a-a7709722adca",
   "metadata": {},
   "outputs": [],
   "source": [
    "class BankAccount:\n",
    "    def __init__(self, initial_balance):\n",
    "        self.__balance = initial_balance\n",
    "\n",
    "    def deposit(self, amount):\n",
    "        if amount > 0:\n",
    "            self.__balance += amount\n",
    "\n",
    "    def withdraw(self, amount):\n",
    "        if 0 < amount <= self.__balance:\n",
    "            self.__balance -= amount\n",
    "\n",
    "    def get_balance(self):\n",
    "        return self.__balance\n",
    "\n",
    "# External code cannot directly access __balance\n",
    "account = BankAccount(1000)\n",
    "print(account.__balance)  # This will raise an AttributeError\n"
   ]
  },
  {
   "cell_type": "markdown",
   "id": "a35c1f6d-8abe-4e4a-b937-070c0d17f867",
   "metadata": {},
   "source": [
    "14.Here's a Python class called Employee with private attributes for salary and employee ID, along with a method to calculate yearly bonuses:\n"
   ]
  },
  {
   "cell_type": "code",
   "execution_count": null,
   "id": "e9bde335-8f9a-4446-8d82-3071b608c3c9",
   "metadata": {},
   "outputs": [],
   "source": [
    "class Employee:\n",
    "    def __init__(self, employee_id, salary):\n",
    "        self.__employee_id = employee_id\n",
    "        self.__salary = salary\n",
    "\n",
    "    def calculate_bonus(self, percentage):\n",
    "        return self.__salary * (percentage / 100)\n",
    "\n",
    "# Example usage:\n",
    "emp = Employee(\"E001\", 50000)\n",
    "bonus = emp.calculate_bonus(10)  # 10% bonus\n",
    "print(\"Yearly bonus:\", bonus)\n"
   ]
  },
  {
   "cell_type": "markdown",
   "id": "0f7c7407-d8f3-4a0a-8d19-70247e388fe1",
   "metadata": {},
   "source": [
    "15.Accessors and mutators are methods used to access (get) and modify (set) the values of private attributes, respectively. They provide controlled access to the attributes of a class, allowing validation and error checking to be implemented. Accessors and mutators help maintain control over attribute access by encapsulating the internal state of an object and enforcing data integrity.\n",
    "Accessor example:"
   ]
  },
  {
   "cell_type": "code",
   "execution_count": null,
   "id": "048d6edc-5b5f-45eb-b9c7-cd03b9c60b9c",
   "metadata": {},
   "outputs": [],
   "source": [
    "class MyClass:\n",
    "    def __init__(self):\n",
    "        self.__private_attribute = \"Private\"\n",
    "\n",
    "    def get_private_attribute(self):\n",
    "        return self.__private_attribute\n",
    "\n",
    "obj = MyClass()\n",
    "print(obj.get_private_attribute())  # Output: Private\n"
   ]
  },
  {
   "cell_type": "markdown",
   "id": "431b7af5-5502-44ea-b23d-750a0b7369f5",
   "metadata": {},
   "source": [
    "16.While encapsulation offers several benefits, there are also potential drawbacks or disadvantages to consider:\n",
    "a. Complexity: Overuse of encapsulation can lead to overly complex class hierarchies and increased code verbosity, making the codebase harder to understand and maintain.\n",
    "\n",
    "b. Performance Overhead: Accessing attributes through getter and setter methods can introduce performance overhead compared to direct attribute access, especially in performance-critical applications.\n",
    "\n",
    "c. Increased Boilerplate Code: Encapsulation often requires writing getter and setter methods for each attribute, leading to increased boilerplate code, especially in classes with many attributes.\n",
    "\n",
    "d. Limited Access: Strict encapsulation can sometimes limit flexibility and hinder certain design patterns, such as data-oriented programming or functional programming approaches."
   ]
  },
  {
   "cell_type": "markdown",
   "id": "4fdf2e5a-117a-42de-a66e-cc7561f69363",
   "metadata": {},
   "source": [
    "17.Below is a Python class for a library system that encapsulates book information, including titles, authors, and availability status:"
   ]
  },
  {
   "cell_type": "code",
   "execution_count": null,
   "id": "44cb7032-d75d-4fab-a600-1f930cdea875",
   "metadata": {},
   "outputs": [],
   "source": [
    "class Book:\n",
    "    def __init__(self, title, author):\n",
    "        self.__title = title\n",
    "        self.__author = author\n",
    "        self.__available = True\n",
    "\n",
    "    def get_title(self):\n",
    "        return self.__title\n",
    "\n",
    "    def get_author(self):\n",
    "        return self.__author\n",
    "\n",
    "    def is_available(self):\n",
    "        return self.__available\n",
    "\n",
    "    def borrow_book(self):\n",
    "        if self.__available:\n",
    "            self.__available = False\n",
    "            print(\"Book borrowed successfully.\")\n",
    "        else:\n",
    "            print(\"Sorry, the book is not available.\")\n",
    "\n",
    "    def return_book(self):\n",
    "        self.__available = True\n",
    "        print(\"Book returned.\")\n",
    "\n",
    "\n",
    "# Example usage:\n",
    "book1 = Book(\"Python Programming\", \"John Doe\")\n",
    "print(\"Book title:\", book1.get_title())\n",
    "print(\"Book author:\", book1.get_author())\n",
    "print(\"Available:\", book1.is_available())\n",
    "\n",
    "book1.borrow_book()\n",
    "print(\"Available:\", book1.is_available())\n",
    "\n",
    "book1.return_book()\n",
    "print(\"Available:\", book1.is_available())\n"
   ]
  },
  {
   "cell_type": "markdown",
   "id": "1adeb496-5a47-41b1-b8e6-bd0d2eb7974b",
   "metadata": {},
   "source": [
    "18.Encapsulation enhances code reusability and modularity in Python programs by promoting encapsulated classes as reusable components. By encapsulating data and behavior within a class, encapsulation allows for modular design, where each class represents a self-contained unit of functionality. This modular design enables code reuse, as encapsulated classes can be easily integrated into different parts of the program without modifying the underlying implementation. Additionally, encapsulation helps enforce clear boundaries between different components of the program, leading to cleaner, more maintainable code"
   ]
  },
  {
   "cell_type": "markdown",
   "id": "18f5ac97-81b3-4a15-a53c-144a76d91809",
   "metadata": {},
   "source": [
    "19.Information hiding in encapsulation refers to the practice of hiding the internal details of a class and only exposing a well-defined interface to the outside world. By hiding implementation details, encapsulation allows for changes to the internal structure of a class without affecting the external code that uses it. This helps maintain software integrity and reduces dependencies between different parts of the program. Information hiding is essential in software development as it promotes modularity, reduces complexity, and improves code maintainability and reusability."
   ]
  },
  {
   "cell_type": "markdown",
   "id": "c672852f-e817-4a3e-835f-05b402bc848e",
   "metadata": {},
   "source": [
    "20.Here's a Python class called Customer with private attributes for customer details like name, address, and contact information, implemented with encapsulation to ensure data integrity and security:"
   ]
  },
  {
   "cell_type": "code",
   "execution_count": null,
   "id": "0df379e4-1809-4543-a5fe-e0ee2f1023a1",
   "metadata": {},
   "outputs": [],
   "source": [
    "class Customer:\n",
    "    def __init__(self, name, address, contact_info):\n",
    "        self.__name = name\n",
    "        self.__address = address\n",
    "        self.__contact_info = contact_info\n",
    "\n",
    "    def get_name(self):\n",
    "        return self.__name\n",
    "\n",
    "    def get_address(self):\n",
    "        return self.__address\n",
    "\n",
    "    def get_contact_info(self):\n",
    "        return self.__contact_info\n",
    "\n",
    "    def update_contact_info(self, new_contact_info):\n",
    "        self.__contact_info = new_contact_info\n",
    "        print(\"Contact information updated successfully.\")\n",
    "\n",
    "\n",
    "# Example usage:\n",
    "customer1 = Customer(\"Alice\", \"123 Main St\", \"alice@example.com\")\n",
    "print(\"Customer name:\", customer1.get_name())\n",
    "print(\"Customer address:\", customer1.get_address())\n",
    "print(\"Customer contact info:\", customer1.get_contact_info())\n",
    "\n",
    "customer1.update_contact_info(\"alice.new@example.com\")\n",
    "print(\"Updated contact info:\", customer1.get_contact_info())\n"
   ]
  },
  {
   "cell_type": "markdown",
   "id": "958e585c-e90c-45b8-b92d-a3f86eedf141",
   "metadata": {},
   "source": [
    "In this example, the customer details are encapsulated within the Customer class using private attributes, and access to these attributes is provided through getter methods. This ensures that the customer data remains secure and can only be accessed or modified through controlled interfaces."
   ]
  },
  {
   "cell_type": "code",
   "execution_count": null,
   "id": "bdf33ca4-5595-4dd1-9a4e-843aad290c0f",
   "metadata": {},
   "outputs": [],
   "source": [
    "Polymorphism:                                                                                                "
   ]
  },
  {
   "cell_type": "markdown",
   "id": "bd25f0c3-f512-4496-8d57-ec8bed6c9234",
   "metadata": {},
   "source": [
    "1.\n",
    "Polymorphism in Python refers to the ability of objects to take on multiple forms or behave differently depending on the context. It allows objects of different classes to be treated as objects of a common superclass, enabling flexibility and code reuse. Polymorphism is a core concept in object-oriented programming (OOP) as it promotes code extensibility and modularity."
   ]
  },
  {
   "cell_type": "markdown",
   "id": "9f26e2ef-22cf-42a5-9456-9498d97bccfe",
   "metadata": {},
   "source": [
    "2.The difference between compile-time polymorphism and runtime polymorphism in Python lies in when the polymorphic behavior is determined:\n",
    "\n",
    "Compile-time polymorphism: Also known as static polymorphism, it occurs when the compiler determines which method or function to invoke at compile time based on the method signature or function prototype. This is typically achieved through function overloading or operator overloading in Python.\n",
    "\n",
    "Runtime polymorphism: Also known as dynamic polymorphism, it occurs when the method or function to be invoked is determined at runtime based on the actual object type. This is typically achieved through method overriding in Python."
   ]
  },
  {
   "cell_type": "markdown",
   "id": "493a9fab-3174-4abe-8f61-cf78aa795656",
   "metadata": {},
   "source": [
    "3.Below is a Python class hierarchy for shapes (circle, square, triangle) demonstrating polymorphism through a common method calculate_area():"
   ]
  },
  {
   "cell_type": "code",
   "execution_count": null,
   "id": "22158a0e-a6db-4530-b528-c8ac50b3e510",
   "metadata": {},
   "outputs": [],
   "source": [
    "import math\n",
    "\n",
    "class Shape:\n",
    "    def calculate_area(self):\n",
    "        pass\n",
    "\n",
    "class Circle(Shape):\n",
    "    def __init__(self, radius):\n",
    "        self.radius = radius\n",
    "\n",
    "    def calculate_area(self):\n",
    "        return math.pi * self.radius ** 2\n",
    "\n",
    "class Square(Shape):\n",
    "    def __init__(self, side):\n",
    "        self.side = side\n",
    "\n",
    "    def calculate_area(self):\n",
    "        return self.side ** 2\n",
    "\n",
    "class Triangle(Shape):\n",
    "    def __init__(self, base, height):\n",
    "        self.base = base\n",
    "        self.height = height\n",
    "\n",
    "    def calculate_area(self):\n",
    "        return 0.5 * self.base * self.height\n",
    "\n",
    "# Example usage:\n",
    "circle = Circle(5)\n",
    "print(\"Area of circle:\", circle.calculate_area())\n",
    "\n",
    "square = Square(4)\n",
    "print(\"Area of square:\", square.calculate_area())\n",
    "\n",
    "triangle = Triangle(3, 6)\n",
    "print(\"Area of triangle:\", triangle.calculate_area())\n"
   ]
  },
  {
   "cell_type": "markdown",
   "id": "368e95cf-ac23-4657-ad42-455261c2d1e7",
   "metadata": {},
   "source": [
    "4.Method overriding in polymorphism refers to the ability of a subclass to provide a specific implementation of a method that is already defined in its superclass. When a method is overridden in a subclass, the subclass method is invoked instead of the superclass method when called on an object of the subclass. This allows for customization and specialization of behavior in subclasses.\n",
    "\n",
    "Example:"
   ]
  },
  {
   "cell_type": "code",
   "execution_count": null,
   "id": "deadc2f9-e2c6-4c94-9027-22ad3ff68311",
   "metadata": {},
   "outputs": [],
   "source": [
    "class Animal:\n",
    "    def make_sound(self):\n",
    "        print(\"Some generic sound\")\n",
    "\n",
    "class Dog(Animal):\n",
    "    def make_sound(self):\n",
    "        print(\"Woof!\")\n",
    "\n",
    "# Example usage:\n",
    "animal = Animal()\n",
    "animal.make_sound()  # Output: Some generic sound\n",
    "\n",
    "dog = Dog()\n",
    "dog.make_sound()  # Output: Woof!\n"
   ]
  },
  {
   "cell_type": "markdown",
   "id": "4175ed22-bf6a-4665-b16b-5179b77d979e",
   "metadata": {},
   "source": [
    "5.Polymorphism and method overloading are related concepts but have different meanings:\n",
    "\n",
    "Polymorphism: Refers to the ability of objects to take on multiple forms and behave differently based on their actual types or classes. It allows for code flexibility and extensibility by enabling objects of different classes to be treated uniformly.\n",
    "\n",
    "Method overloading: Refers to the ability to define multiple methods with the same name but different parameters or argument types within the same class. In Python, method overloading is achieved through default parameter values or variable-length argument lists, as the language does not support traditional method overloading based on method signatures.\n",
    "\n",
    "Example of polymorphism:"
   ]
  },
  {
   "cell_type": "code",
   "execution_count": null,
   "id": "cbd5c845-6a3e-4de1-954e-366526b3176d",
   "metadata": {},
   "outputs": [],
   "source": [
    "class Animal:\n",
    "    def make_sound(self):\n",
    "        pass\n",
    "\n",
    "class Dog(Animal):\n",
    "    def make_sound(self):\n",
    "        print(\"Woof!\")\n",
    "\n",
    "class Cat(Animal):\n",
    "    def make_sound(self):\n",
    "        print(\"Meow!\")\n",
    "\n",
    "# Example usage:\n",
    "animals = [Dog(), Cat()]\n",
    "for animal in animals:\n",
    "    animal.make_sound()  # Output: Woof!  Meow!\n"
   ]
  },
  {
   "cell_type": "code",
   "execution_count": null,
   "id": "2980b8d2-f23d-4ca7-a9fe-a71bdaa411ef",
   "metadata": {},
   "outputs": [],
   "source": [
    "Example of method overloading:"
   ]
  },
  {
   "cell_type": "code",
   "execution_count": null,
   "id": "e909a891-ff72-4517-bb06-4ce76b0ea797",
   "metadata": {},
   "outputs": [],
   "source": [
    "class MathOperations:\n",
    "    def add(self, a, b):\n",
    "        return a + b\n",
    "\n",
    "    def add(self, a, b, c):\n",
    "        return a + b + c\n",
    "\n",
    "# Example usage:\n",
    "math = MathOperations()\n",
    "print(math.add(2, 3))     # This will raise a TypeError\n",
    "print(math.add(2, 3, 4))  # Output: 9\n"
   ]
  },
  {
   "cell_type": "markdown",
   "id": "f85adacd-03c4-42d8-a1b6-2f9d60bd387e",
   "metadata": {},
   "source": [
    "6.\n",
    "Here's a Python class Animal with a method speak(), along with child classes Dog, Cat, and Bird, each with their own speak() method to demonstrate polymorphism:"
   ]
  },
  {
   "cell_type": "code",
   "execution_count": null,
   "id": "de3b6749-617d-4e51-b844-f74ebc4565aa",
   "metadata": {},
   "outputs": [],
   "source": [
    "class Animal:\n",
    "    def speak(self):\n",
    "        pass\n",
    "\n",
    "class Dog(Animal):\n",
    "    def speak(self):\n",
    "        return \"Woof!\"\n",
    "\n",
    "class Cat(Animal):\n",
    "    def speak(self):\n",
    "        return \"Meow!\"\n",
    "\n",
    "class Bird(Animal):\n",
    "    def speak(self):\n",
    "        return \"Chirp!\"\n",
    "\n",
    "# Example usage:\n",
    "animals = [Dog(), Cat(), Bird()]\n",
    "for animal in animals:\n",
    "    print(animal.speak())\n"
   ]
  },
  {
   "cell_type": "markdown",
   "id": "b5675d38-2889-40cb-870a-935929705432",
   "metadata": {},
   "source": [
    "7.Abstract methods and classes are used to achieve polymorphism by defining a common interface that must be implemented by all subclasses. In Python, abstract methods and classes can be created using the abc module. Subclasses are required to implement abstract methods, ensuring that they provide their own implementation of the common interface.\n",
    "\n",
    "Example using the abc module:"
   ]
  },
  {
   "cell_type": "code",
   "execution_count": null,
   "id": "60117dc7-4b74-4200-995d-7e72de04bb6f",
   "metadata": {},
   "outputs": [],
   "source": [
    "from abc import ABC, abstractmethod\n",
    "\n",
    "class Shape(ABC):\n",
    "    @abstractmethod\n",
    "    def area(self):\n",
    "        pass\n",
    "\n",
    "class Circle(Shape):\n",
    "    def __init__(self, radius):\n",
    "        self.radius = radius\n",
    "\n",
    "    def area(self):\n",
    "        return 3.14 * self.radius ** 2\n",
    "\n",
    "class Rectangle(Shape):\n",
    "    def __init__(self, width, height):\n",
    "        self.width = width\n",
    "        self.height = height\n",
    "\n",
    "    def area(self):\n",
    "        return self.width * self.height\n",
    "\n",
    "# Example usage:\n",
    "circle = Circle(5)\n",
    "print(\"Area of circle:\", circle.area())\n",
    "\n",
    "rectangle = Rectangle(4, 6)\n",
    "print(\"Area of rectangle:\", rectangle.area())\n"
   ]
  },
  {
   "cell_type": "markdown",
   "id": "4b279d7f-14dc-448e-9053-927375592e77",
   "metadata": {},
   "source": [
    "8.Here's a Python class hierarchy for a vehicle system (car, bicycle, boat) with a polymorphic start() method:"
   ]
  },
  {
   "cell_type": "code",
   "execution_count": null,
   "id": "510cdb37-99b6-4e74-88ee-a6a7f43136f0",
   "metadata": {},
   "outputs": [],
   "source": [
    "class Vehicle:\n",
    "    def start(self):\n",
    "        pass\n",
    "\n",
    "class Car(Vehicle):\n",
    "    def start(self):\n",
    "        return \"Car started. Vroom!\"\n",
    "\n",
    "class Bicycle(Vehicle):\n",
    "    def start(self):\n",
    "        return \"Bicycle started. Pedal!\"\n",
    "\n",
    "class Boat(Vehicle):\n",
    "    def start(self):\n",
    "        return \"Boat started. Row!\"\n",
    "        \n",
    "# Example usage:\n",
    "vehicles = [Car(), Bicycle(), Boat()]\n",
    "for vehicle in vehicles:\n",
    "    print(vehicle.start())\n"
   ]
  },
  {
   "cell_type": "markdown",
   "id": "800d6f02-de6b-434e-8fbb-bb12f8b1094a",
   "metadata": {},
   "source": [
    "9.The isinstance() function is used to check if an object is an instance of a particular class, including subclasses. It returns True if the object is an instance of the specified class or any of its subclasses, otherwise False. The issubclass() function, on the other hand, is used to check if a class is a subclass of another class. It returns True if the class is a subclass of the specified class, otherwise False."
   ]
  },
  {
   "cell_type": "markdown",
   "id": "742926c3-303c-477a-90e2-dd9cf70872d3",
   "metadata": {},
   "source": [
    "10.The @abstractmethod decorator is used to define abstract methods in abstract base classes (ABCs) in Python. Abstract methods are used to define a common interface that must be implemented by all subclasses, ensuring polymorphic behavior. The decorator marks a method as abstract, meaning it must be implemented by any subclass. If a subclass fails to implement an abstract method, it will raise a TypeError at runtime.\n",
    "\n",
    "Example:"
   ]
  },
  {
   "cell_type": "code",
   "execution_count": null,
   "id": "dfe847da-5952-405d-bcce-9f6c580935b7",
   "metadata": {},
   "outputs": [],
   "source": [
    "from abc import ABC, abstractmethod\n",
    "\n",
    "class Shape(ABC):\n",
    "    @abstractmethod\n",
    "    def area(self):\n",
    "        pass\n",
    "\n",
    "class Circle(Shape):\n",
    "    def __init__(self, radius):\n",
    "        self.radius = radius\n",
    "\n",
    "    def area(self):\n",
    "        return 3.14 * self.radius ** 2\n",
    "\n",
    "# Example usage:\n",
    "shape = Circle(5)\n",
    "print(\"Area of circle:\", shape.area())\n"
   ]
  },
  {
   "cell_type": "markdown",
   "id": "1fee2635-5877-411a-8602-fa1dc83ee058",
   "metadata": {},
   "source": [
    "11.Here's a Python class Shape with a polymorphic method area() that calculates the area of different shapes (e.g., circle, rectangle, triangle):"
   ]
  },
  {
   "cell_type": "code",
   "execution_count": null,
   "id": "5a2b20b5-f0cf-4d83-9c4b-f5393329fbdb",
   "metadata": {},
   "outputs": [],
   "source": [
    "class Shape:\n",
    "    def area(self):\n",
    "        pass\n",
    "\n",
    "class Circle(Shape):\n",
    "    def __init__(self, radius):\n",
    "        self.radius = radius\n",
    "\n",
    "    def area(self):\n",
    "        return 3.14 * self.radius ** 2\n",
    "\n",
    "class Rectangle(Shape):\n",
    "    def __init__(self, width, height):\n",
    "        self.width = width\n",
    "        self.height = height\n",
    "\n",
    "    def area(self):\n",
    "        return self.width * self.height\n",
    "\n",
    "class Triangle(Shape):\n",
    "    def __init__(self, base, height):\n",
    "        self.base = base\n",
    "        self.height = height\n",
    "\n",
    "    def area(self):\n",
    "        return 0.5 * self.base * self.height\n",
    "\n",
    "# Example usage:\n",
    "circle = Circle(5)\n",
    "print(\"Area of circle:\", circle.area())\n",
    "\n",
    "rectangle = Rectangle(4, 6)\n",
    "print(\"Area of rectangle:\", rectangle.area())\n",
    "\n",
    "triangle = Triangle(3, 6)\n",
    "print(\"Area of triangle:\", triangle.area())\n"
   ]
  },
  {
   "cell_type": "markdown",
   "id": "40f6eef6-e734-47c1-ae64-9fb474b27be7",
   "metadata": {},
   "source": [
    "12.Abstract properties in Python are properties that are defined in abstract base classes (ABCs) but are not implemented. They are used to define a common interface that must be implemented by subclasses. Abstract properties are declared using the @property decorator along with the @abstractmethod decorator to mark them as abstract.\n",
    "Abstract properties can be employed in abstract classes to enforce certain properties to be implemented by subclasses. This ensures that subclasses provide their own implementation of the properties, promoting code consistency and modularity.\n",
    "\n",
    "Example:"
   ]
  },
  {
   "cell_type": "code",
   "execution_count": null,
   "id": "0e87ee05-9916-48aa-921a-416a1dd09095",
   "metadata": {},
   "outputs": [],
   "source": [
    "from abc import ABC, abstractmethod\n",
    "\n",
    "class Shape(ABC):\n",
    "    @property\n",
    "    @abstractmethod\n",
    "    def area(self):\n",
    "        pass\n",
    "\n",
    "class Circle(Shape):\n",
    "    def __init__(self, radius):\n",
    "        self.radius = radius\n",
    "\n",
    "    @property\n",
    "    def area(self):\n",
    "        return 3.14 * self.radius ** 2\n",
    "\n",
    "# Example usage:\n",
    "circle = Circle(5)\n",
    "print(\"Area of circle:\", circle.area)\n"
   ]
  },
  {
   "cell_type": "markdown",
   "id": "40110526-5123-4dcf-b432-73a32278bc76",
   "metadata": {},
   "source": [
    "13.Here's a Python class hierarchy for employees in a company (manager, developer, designer) implementing abstraction by defining a common get_salary() method:\n",
    "python\n"
   ]
  },
  {
   "cell_type": "code",
   "execution_count": null,
   "id": "52208e7f-0c4c-4eb4-b1f7-2fc03dab13dd",
   "metadata": {},
   "outputs": [],
   "source": [
    "from abc import ABC, abstractmethod\n",
    "\n",
    "class Employee(ABC):\n",
    "    def __init__(self, name, role):\n",
    "        self.name = name\n",
    "        self.role = role\n",
    "\n",
    "    @abstractmethod\n",
    "    def get_salary(self):\n",
    "        pass\n",
    "\n",
    "class Manager(Employee):\n",
    "    def get_salary(self):\n",
    "        return 80000\n",
    "\n",
    "class Developer(Employee):\n",
    "    def get_salary(self):\n",
    "        return 60000\n",
    "\n",
    "class Designer(Employee):\n",
    "    def get_salary(self):\n",
    "        return 70000\n",
    "\n",
    "# Example usage:\n",
    "manager = Manager(\"John\", \"Manager\")\n",
    "print(\"Manager's salary:\", manager.get_salary())\n",
    "\n",
    "developer = Developer(\"Alice\", \"Developer\")\n",
    "print(\"Developer's salary:\", developer.get_salary())\n",
    "\n",
    "designer = Designer(\"Bob\", \"Designer\")\n",
    "print(\"Designer's salary:\", designer.get_salary())\n"
   ]
  },
  {
   "cell_type": "markdown",
   "id": "b7a9a91e-a679-431e-9818-5fd6cc2873b3",
   "metadata": {},
   "source": [
    "14.Abstract classes in Python are classes that cannot be instantiated directly and are meant to serve as blueprints for other classes. They may contain one or more abstract methods that must be implemented by subclasses. Abstract classes are defined using the ABC metaclass and the @abstractmethod decorator.\n",
    "Concrete classes, on the other hand, are regular classes that can be instantiated directly. They may inherit from abstract classes and provide implementations for all abstract methods, making them suitable for instantiation.\n",
    "\n",
    "The main difference between abstract classes and concrete classes lies in their instantiation. Abstract classes cannot be instantiated directly, while concrete classes can.\n",
    "\n"
   ]
  },
  {
   "cell_type": "markdown",
   "id": "2e221467-ccc7-4a70-9711-f092fe3e31c0",
   "metadata": {},
   "source": [
    "15.Abstract data types (ADTs) in Python are data types that are defined by their behavior and operations rather than their implementation. They provide a high-level view of data structures and operations, allowing for abstraction and encapsulation of data.\n",
    "ADTs play a crucial role in achieving abstraction in Python by providing a clear and well-defined interface for manipulating data, hiding implementation details from the user. This allows developers to focus on how data is used rather than how it is stored or processed, promoting code reusability and modularity.\n",
    "\n",
    "Common examples of ADTs in Python include lists, sets, dictionaries, and queues. These data structures provide abstract interfaces for adding, removing, and accessing elements, allowing developers to work with data at a higher level of abstraction.\n",
    "\n",
    "\n",
    "\n",
    "\n",
    "\n",
    "\n"
   ]
  },
  {
   "cell_type": "markdown",
   "id": "ea88d302-7779-4c99-ac83-59c478d53fd1",
   "metadata": {},
   "source": [
    "16.Here's a Python class for a computer system demonstrating abstraction by defining common methods (power_on(), shutdown()) in an abstract base class:"
   ]
  },
  {
   "cell_type": "code",
   "execution_count": null,
   "id": "f59009fd-5bbf-4ec5-b3e8-6af01d8b13f9",
   "metadata": {},
   "outputs": [],
   "source": [
    "from abc import ABC, abstractmethod\n",
    "\n",
    "class Computer(ABC):\n",
    "    @abstractmethod\n",
    "    def power_on(self):\n",
    "        pass\n",
    "\n",
    "    @abstractmethod\n",
    "    def shutdown(self):\n",
    "        pass\n",
    "\n",
    "class Desktop(Computer):\n",
    "    def power_on(self):\n",
    "        print(\"Desktop powering on...\")\n",
    "\n",
    "    def shutdown(self):\n",
    "        print(\"Desktop shutting down...\")\n",
    "\n",
    "class Laptop(Computer):\n",
    "    def power_on(self):\n",
    "        print(\"Laptop powering on...\")\n",
    "\n",
    "    def shutdown(self):\n",
    "        print(\"Laptop shutting down...\")\n",
    "\n",
    "# Example usage:\n",
    "desktop = Desktop()\n",
    "desktop.power_on()\n",
    "desktop.shutdown()\n",
    "\n",
    "laptop = Laptop()\n",
    "laptop.power_on()\n",
    "laptop.shutdown()\n"
   ]
  },
  {
   "cell_type": "markdown",
   "id": "62752086-c314-4eb7-b080-e03493b849a2",
   "metadata": {},
   "source": [
    "17.Abstraction offers several benefits in large-scale software development projects:\n",
    "a. Simplicity and Manageability: Abstraction hides unnecessary details and complexities, making code easier to understand, maintain, and debug. This simplification enhances the manageability of the codebase, reducing the cognitive load on developers.\n",
    "\n",
    "b. Modularity and Reusability: Abstraction promotes modular design by encapsulating functionality into reusable components. This modular structure facilitates code reuse, allowing developers to leverage existing components in new contexts, thereby reducing development time and effort.\n",
    "\n",
    "c. Flexibility and Scalability: Abstraction provides a flexible and scalable architecture that allows for easy adaptation to changing requirements and environments. By decoupling components and defining clear interfaces, abstraction enables the system to evolve and grow over time without major refactoring.\n",
    "\n",
    "d. Enhanced Collaboration: Abstraction fosters collaboration among team members by providing a common language and understanding of the system's architecture. With well-defined abstractions, team members can work independently on different modules without interfering with each other's code."
   ]
  },
  {
   "cell_type": "markdown",
   "id": "5fb2eb3b-c00e-4cb8-8c12-f1be50b0cd17",
   "metadata": {},
   "source": [
    "18.Abstraction enhances code reusability and modularity in Python programs by:\n",
    "a. Encapsulation of Complexity: Abstraction hides unnecessary implementation details, exposing only essential functionality through well-defined interfaces. This encapsulation reduces complexity and promotes code reuse by providing a clear separation of concerns.\n",
    "\n",
    "b. Promotion of Modular Design: Abstraction encourages modular design by breaking down complex systems into smaller, more manageable components. Each component encapsulates a specific set of functionalities, making it easier to understand, maintain, and reuse.\n",
    "\n",
    "c. Facilitation of Interface-based Programming: Abstraction facilitates interface-based programming, where classes communicate through clearly defined interfaces rather than direct implementation details. This promotes loose coupling between components, allowing for easier integration and modification.\n",
    "\n",
    "d. Support for Polymorphism: Abstraction enables polymorphic behavior, allowing objects of different classes to be treated uniformly through a common interface. This promotes code flexibility and extensibility, as new subclasses can be added without modifying existing code"
   ]
  },
  {
   "cell_type": "markdown",
   "id": "4b2b7432-9046-4a81-b918-4de594718fab",
   "metadata": {},
   "source": [
    "19.Here's a Python class for a library system implementing abstraction by defining common methods (add_book(), borrow_book()) in an abstract base class:"
   ]
  },
  {
   "cell_type": "code",
   "execution_count": null,
   "id": "f405b8fd-ce4b-4e71-9422-46d33add81cc",
   "metadata": {},
   "outputs": [],
   "source": [
    "from abc import ABC, abstractmethod\n",
    "\n",
    "class LibrarySystem(ABC):\n",
    "    @abstractmethod\n",
    "    def add_book(self, book):\n",
    "        pass\n",
    "\n",
    "    @abstractmethod\n",
    "    def borrow_book(self, book):\n",
    "        pass\n",
    "\n",
    "class Library(LibrarySystem):\n",
    "    def __init__(self):\n",
    "        self.books = []\n",
    "\n",
    "    def add_book(self, book):\n",
    "        self.books.append(book)\n",
    "        print(f\"Book '{book}' added to the library.\")\n",
    "\n",
    "    def borrow_book(self, book):\n",
    "        if book in self.books:\n",
    "            self.books.remove(book)\n",
    "            print(f\"Book '{book}' borrowed successfully.\")\n",
    "        else:\n",
    "            print(f\"Book '{book}' not found in the library.\")\n",
    "\n",
    "# Example usage:\n",
    "library = Library()\n",
    "library.add_book(\"Python Cookbook\")\n",
    "library.add_book(\"Data Science for Beginners\")\n",
    "\n",
    "library.borrow_book(\"Python Cookbook\")\n",
    "library.borrow_book(\"Java Programming\")\n"
   ]
  },
  {
   "cell_type": "code",
   "execution_count": null,
   "id": "907cc694-dda5-4f64-a652-6a23a25d681f",
   "metadata": {},
   "outputs": [],
   "source": [
    "20.from abc import ABC, abstractmethod\n",
    "\n",
    "class LibrarySystem(ABC):\n",
    "    @abstractmethod\n",
    "    def add_book(self, book):\n",
    "        pass\n",
    "\n",
    "    @abstractmethod\n",
    "    def borrow_book(self, book):\n",
    "        pass\n",
    "\n",
    "class Library(LibrarySystem):\n",
    "    def __init__(self):\n",
    "        self.books = []\n",
    "\n",
    "    def add_book(self, book):\n",
    "        self.books.append(book)\n",
    "        print(f\"Book '{book}' added to the library.\")\n",
    "\n",
    "    def borrow_book(self, book):\n",
    "        if book in self.books:\n",
    "            self.books.remove(book)\n",
    "            print(f\"Book '{book}' borrowed successfully.\")\n",
    "        else:\n",
    "            print(f\"Book '{book}' not found in the library.\")\n",
    "\n",
    "# Example usage:\n",
    "library = Library()\n",
    "library.add_book(\"Python Cookbook\")\n",
    "library.add_book(\"Data Science for Beginners\")\n",
    "\n",
    "library.borrow_book(\"Python Cookbook\")\n",
    "library.borrow_book(\"Java Programming\")\n"
   ]
  },
  {
   "cell_type": "code",
   "execution_count": null,
   "id": "31863113-78ee-4ebf-9349-0d1e9169688a",
   "metadata": {},
   "outputs": [],
   "source": [
    "Composition:"
   ]
  },
  {
   "cell_type": "markdown",
   "id": "692f77d5-7589-4d51-a32b-8c0d3bdbbfc7",
   "metadata": {},
   "source": [
    "1.Composition in Python refers to the practice of creating complex objects by combining simpler objects or components. Instead of inheriting behavior from a superclass, composition involves creating objects of other classes within a class to achieve the desired functionality. This allows for building more flexible and modular code by separating concerns and promoting code reuse."
   ]
  },
  {
   "cell_type": "markdown",
   "id": "fdafb59e-b8c1-41b5-b3d3-6992f5e6915d",
   "metadata": {},
   "source": [
    "2.The difference between composition and inheritance in object-oriented programming lies in how classes are related to each other:\n",
    "\n",
    "Composition: In composition, a class contains an instance of another class as one of its attributes. The containing class does not inherit behavior from the contained class but rather delegates tasks to it as needed. Composition promotes code reuse by allowing objects to be combined in various ways to create complex behavior.\n",
    "\n",
    "Inheritance: Inheritance involves creating a new class (subclass) based on an existing class (superclass), inheriting its attributes and methods. Subclasses can extend or override the behavior of the superclass. While inheritance promotes code reuse by allowing subclasses to reuse code from the superclass, it can lead to tight coupling and inflexible designs.\n",
    "\n"
   ]
  },
  {
   "cell_type": "markdown",
   "id": "c13d8fa7-4732-4ba9-86ae-db218680e954",
   "metadata": {},
   "source": [
    "3.Here's a Python class Author with attributes for name and birthdate, and a Book class that contains an instance of Author as a composition:"
   ]
  },
  {
   "cell_type": "code",
   "execution_count": null,
   "id": "a91ed654-2c59-4379-bbd6-e41c40700684",
   "metadata": {},
   "outputs": [],
   "source": [
    "class Author:\n",
    "    def __init__(self, name, birthdate):\n",
    "        self.name = name\n",
    "        self.birthdate = birthdate\n",
    "\n",
    "class Book:\n",
    "    def __init__(self, title, author, publication_year):\n",
    "        self.title = title\n",
    "        self.author = author\n",
    "        self.publication_year = publication_year\n",
    "\n",
    "# Example of creating a Book object:\n",
    "author = Author(\"John Doe\", \"1980-01-01\")\n",
    "book = Book(\"Python Programming\", author, 2022)\n"
   ]
  },
  {
   "cell_type": "markdown",
   "id": "ce640d50-82f7-4516-acdd-cbe1e0719f3f",
   "metadata": {},
   "source": [
    "4.Benefits of using composition over inheritance in Python:\n",
    "\n",
    "Flexibility: Composition allows for more flexible designs by enabling objects to be composed and recombined in various ways to achieve different behaviors. This promotes code adaptability and makes it easier to accommodate changes in requirements.\n",
    "\n",
    "Modularity: Composition promotes modularity by breaking down complex systems into smaller, more manageable components. Each component can be developed and tested independently, leading to a more modular and maintainable codebase.\n",
    "\n",
    "Code Reusability: Composition encourages code reuse by promoting the reuse of existing components in different contexts. Instead of inheriting behavior from a superclass, objects can be composed and reused in multiple classes, reducing code duplication.\n",
    "\n",
    "Reduced Coupling: Composition helps reduce coupling between classes by promoting loose coupling through interfaces. Classes communicate through well-defined interfaces rather than direct inheritance, leading to a more decoupled and maintainable codebase.\n",
    "\n"
   ]
  },
  {
   "cell_type": "markdown",
   "id": "a375a494-3b30-4e79-a7f5-8140dbbca10c",
   "metadata": {},
   "source": [
    "5.Composition in Python classes can be implemented by creating instances of other classes as attributes within a class. Here are examples demonstrating the use of composition to create complex objects:"
   ]
  },
  {
   "cell_type": "code",
   "execution_count": null,
   "id": "9febd51a-f1b5-4110-a58a-799a925c91f6",
   "metadata": {},
   "outputs": [],
   "source": [
    "class Engine:\n",
    "    def start(self):\n",
    "        print(\"Engine started.\")\n",
    "\n",
    "    def stop(self):\n",
    "        print(\"Engine stopped.\")\n",
    "\n",
    "class Car:\n",
    "    def __init__(self):\n",
    "        self.engine = Engine()  # Composition\n",
    "\n",
    "    def start(self):\n",
    "        print(\"Car starting...\")\n",
    "        self.engine.start()\n",
    "\n",
    "    def stop(self):\n",
    "        print(\"Car stopping...\")\n",
    "        self.engine.stop()\n",
    "\n",
    "# Example usage:\n",
    "car = Car()\n",
    "car.start()  # Output: Car starting... Engine started.\n",
    "car.stop()   # Output: Car stopping... Engine stopped.\n"
   ]
  },
  {
   "cell_type": "markdown",
   "id": "627fa541-b1d9-434a-981b-cf06825f73bb",
   "metadata": {},
   "source": [
    "6.Here's a Python class hierarchy for a music player system using composition to represent playlists and songs:"
   ]
  },
  {
   "cell_type": "code",
   "execution_count": null,
   "id": "f5673503-bfa3-4b89-9428-68571dee25a4",
   "metadata": {},
   "outputs": [],
   "source": [
    "class Song:\n",
    "    def __init__(self, title, artist, duration):\n",
    "        self.title = title\n",
    "        self.artist = artist\n",
    "        self.duration = duration\n",
    "\n",
    "class Playlist:\n",
    "    def __init__(self, name):\n",
    "        self.name = name\n",
    "        self.songs = []\n",
    "\n",
    "    def add_song(self, song):\n",
    "        self.songs.append(song)\n",
    "\n",
    "    def remove_song(self, song):\n",
    "        if song in self.songs:\n",
    "            self.songs.remove(song)\n",
    "        else:\n",
    "            print(f\"{song.title} is not in the playlist.\")\n",
    "\n",
    "# Example usage:\n",
    "song1 = Song(\"Shape of You\", \"Ed Sheeran\", 240)\n",
    "song2 = Song(\"Believer\", \"Imagine Dragons\", 210)\n",
    "\n",
    "playlist = Playlist(\"My Playlist\")\n",
    "playlist.add_song(song1)\n",
    "playlist.add_song(song2)\n"
   ]
  },
  {
   "cell_type": "markdown",
   "id": "977e9e14-7caa-4bd9-9fdc-77ea0ecbdc80",
   "metadata": {},
   "source": [
    "7.The concept of \"has-a\" relationships in composition refers to the idea that a class \"has\" another class as one of its components or attributes. In other words, composition allows a class to contain instances of other classes as parts of its internal state. This helps design software systems by promoting modular and reusable components, allowing complex systems to be built from simpler ones.\n",
    "\n",
    "For example, in the music player system, the Playlist class \"has\" a collection of Song objects. By composing playlists with songs, the system becomes more flexible and modular, enabling users to manage and organize their music more effectively."
   ]
  },
  {
   "cell_type": "markdown",
   "id": "4ea91fcb-1368-40b4-a893-188015a3ebfa",
   "metadata": {},
   "source": [
    "8.Here's a Python class for a computer system using composition to represent components like CPU, RAM, and storage devices:"
   ]
  },
  {
   "cell_type": "code",
   "execution_count": null,
   "id": "6de9e33d-ef09-45b7-85b1-509c6e51fbe5",
   "metadata": {},
   "outputs": [],
   "source": [
    "class CPU:\n",
    "    def process(self):\n",
    "        print(\"CPU processing...\")\n",
    "\n",
    "class RAM:\n",
    "    def store_data(self):\n",
    "        print(\"RAM storing data...\")\n",
    "\n",
    "class Storage:\n",
    "    def read_data(self):\n",
    "        print(\"Storage reading data...\")\n",
    "\n",
    "class Computer:\n",
    "    def __init__(self):\n",
    "        self.cpu = CPU()\n",
    "        self.ram = RAM()\n",
    "        self.storage = Storage()\n",
    "\n",
    "    def boot(self):\n",
    "        print(\"Computer booting up...\")\n",
    "        self.cpu.process()\n",
    "        self.ram.store_data()\n",
    "        self.storage.read_data()\n",
    "\n",
    "# Example usage:\n",
    "computer = Computer()\n",
    "computer.boot()\n"
   ]
  },
  {
   "cell_type": "markdown",
   "id": "23d66582-99fc-4314-a77d-3c3299012b2b",
   "metadata": {},
   "source": [
    "9.Delegation in composition refers to the process of passing responsibility for a task to another object or component. Instead of implementing the behavior directly, a class delegates the task to another class or component that is better suited to handle it. Delegation simplifies the design of complex systems by promoting modular and reusable components, allowing each component to focus on its specific responsibilities.\n",
    "\n",
    "In the computer system example, the Computer class delegates tasks such as processing, storing data, and reading data to its constituent components (CPU, RAM, Storage). This allows for a more modular and flexible design, where each component is responsible for its own functionality.\n",
    "\n"
   ]
  },
  {
   "cell_type": "markdown",
   "id": "f8bff868-2cb7-4b85-9bae-b778c8cc3264",
   "metadata": {},
   "source": [
    "10.Here's a Python class for a car using composition to represent components like the engine, wheels, and transmission:"
   ]
  },
  {
   "cell_type": "code",
   "execution_count": null,
   "id": "37064bf8-d80f-477f-8b84-ee7f19219d55",
   "metadata": {},
   "outputs": [],
   "source": [
    "class Engine:\n",
    "    def start(self):\n",
    "        print(\"Engine starting...\")\n",
    "\n",
    "    def stop(self):\n",
    "        print(\"Engine stopping...\")\n",
    "\n",
    "class Wheels:\n",
    "    def rotate(self):\n",
    "        print(\"Wheels rotating...\")\n",
    "\n",
    "class Transmission:\n",
    "    def shift_gear(self):\n",
    "        print(\"Transmission shifting gear...\")\n",
    "\n",
    "class Car:\n",
    "    def __init__(self):\n",
    "        self.engine = Engine()\n",
    "        self.wheels = Wheels()\n",
    "        self.transmission = Transmission()\n",
    "\n",
    "    def start(self):\n",
    "        print(\"Car starting...\")\n",
    "        self.engine.start()\n",
    "        self.wheels.rotate()\n",
    "        self.transmission.shift_gear()\n",
    "\n",
    "    def stop(self):\n",
    "        print(\"Car stopping...\")\n",
    "        self.engine.stop()\n",
    "\n",
    "# Example usage:\n",
    "car = Car()\n",
    "car.start()  # Output: Car starting... Engine starting... Wheels rotating... Transmission shifting gear...\n",
    "car.stop()   # Output: Car stopping... Engine stopping...\n"
   ]
  },
  {
   "cell_type": "markdown",
   "id": "fceb0d63-98af-47a8-aba0-eb79d6e30a16",
   "metadata": {},
   "source": [
    "11.To encapsulate and hide the details of composed objects in Python classes to maintain abstraction, you can follow these practices:\n",
    "a. Use Private Attributes: Declare attributes of composed objects as private by prefixing them with double underscores (__). This hides the internal state of composed objects from external access.\n",
    "\n",
    "b. Provide Accessor Methods: Implement getter and setter methods to provide controlled access to the attributes of composed objects. This allows you to encapsulate the internal state and define the interface through which external code interacts with the composed objects.\n",
    "\n",
    "c. Limit Direct Access: Restrict direct access to composed objects' attributes from outside the class. Instead, encapsulate the behavior related to composed objects within methods of the containing class.\n",
    "\n",
    "d. Encapsulate Behavior: Implement methods in the containing class to encapsulate the behavior related to composed objects. This allows you to hide the details of how composed objects interact and maintain abstraction at a higher level"
   ]
  },
  {
   "cell_type": "markdown",
   "id": "c36b4b1f-6b45-4463-866c-1814e8b45329",
   "metadata": {},
   "source": [
    "12.Here's a Python class for a university course using composition to represent students, instructors, and course materials"
   ]
  },
  {
   "cell_type": "code",
   "execution_count": null,
   "id": "df6652b4-384f-4a0e-8b0b-41e750f10c93",
   "metadata": {},
   "outputs": [],
   "source": [
    "class Student:\n",
    "    def __init__(self, name, student_id):\n",
    "        self.name = name\n",
    "        self.student_id = student_id\n",
    "\n",
    "class Instructor:\n",
    "    def __init__(self, name, instructor_id):\n",
    "        self.name = name\n",
    "        self.instructor_id = instructor_id\n",
    "\n",
    "class Course:\n",
    "    def __init__(self, name, instructor, students, materials):\n",
    "        self.name = name\n",
    "        self.instructor = instructor\n",
    "        self.students = students\n",
    "        self.materials = materials\n",
    "\n",
    "# Example usage:\n",
    "student1 = Student(\"Alice\", 1)\n",
    "student2 = Student(\"Bob\", 2)\n",
    "instructor = Instructor(\"Dr. Smith\", 100)\n",
    "materials = [\"Textbook\", \"Lecture Slides\"]\n",
    "\n",
    "course = Course(\"Python Programming\", instructor, [student1, student2], materials)\n"
   ]
  },
  {
   "cell_type": "markdown",
   "id": "22bae9d1-4693-46cf-bd9c-56e3d6b2e2e6",
   "metadata": {},
   "source": [
    "13.Challenges and drawbacks of composition include:\n",
    "a. Increased Complexity: As the number of composed objects and their interactions grows, the complexity of the system may increase. Managing multiple components and their relationships can become challenging, leading to code that is harder to understand and maintain.\n",
    "\n",
    "b. Potential for Tight Coupling: Composition may lead to tight coupling between objects if not carefully managed. Changes to one component may require modifications to other components, increasing dependencies and reducing code flexibility.\n",
    "\n",
    "c. Dependency Management: Composed objects may have dependencies on each other, making it difficult to manage dependencies and ensure proper initialization order. This can lead to issues such as circular dependencies or inconsistent state.\n",
    "\n",
    "d. Code Duplication: In some cases, composition may result in code duplication if similar behavior needs to be implemented across multiple composed objects. This can lead to redundancy and decreased code maintainability."
   ]
  },
  {
   "cell_type": "markdown",
   "id": "e413016e-ae37-49fc-8ddb-00b26c10267f",
   "metadata": {},
   "source": [
    "14.Here's a Python class hierarchy for a restaurant system using composition to represent menus, dishes, and ingredients:"
   ]
  },
  {
   "cell_type": "code",
   "execution_count": null,
   "id": "2a349c55-5458-4670-a77e-c23445d1914f",
   "metadata": {},
   "outputs": [],
   "source": [
    "class Ingredient:\n",
    "    def __init__(self, name, quantity):\n",
    "        self.name = name\n",
    "        self.quantity = quantity\n",
    "\n",
    "class Dish:\n",
    "    def __init__(self, name, ingredients):\n",
    "        self.name = name\n",
    "        self.ingredients = ingredients\n",
    "\n",
    "class Menu:\n",
    "    def __init__(self, name, dishes):\n",
    "        self.name = name\n",
    "        self.dishes = dishes\n",
    "\n",
    "# Example usage:\n",
    "ingredient1 = Ingredient(\"Tomato\", 2)\n",
    "ingredient2 = Ingredient(\"Cheese\", 1)\n",
    "pizza = Dish(\"Pizza\", [ingredient1, ingredient2])\n",
    "\n",
    "ingredient3 = Ingredient(\"Lettuce\", 1)\n",
    "ingredient4 = Ingredient(\"Chicken\", 1)\n",
    "salad = Dish(\"Salad\", [ingredient3, ingredient4])\n",
    "\n",
    "menu = Menu(\"Main Menu\", [pizza, salad])\n"
   ]
  },
  {
   "cell_type": "markdown",
   "id": "dc9dd599-8bb4-41c5-977f-6aa2bcb69cdc",
   "metadata": {},
   "source": [
    "15.Composition enhances code maintainability and modularity in Python programs by:\n",
    "\n",
    "a. Promoting Modularity: Composition allows you to break down complex systems into smaller, more manageable components. Each component encapsulates a specific set of functionalities, making it easier to understand, maintain, and reuse.\n",
    "\n",
    "b. Facilitating Code Reusability: Composition promotes code reuse by enabling the reuse of existing components in different contexts. Instead of reinventing the wheel, you can compose objects to create new functionalities, reducing code duplication and development time.\n",
    "\n",
    "c. Encouraging Loose Coupling: Composition encourages loose coupling between components by promoting interaction through well-defined interfaces. This reduces dependencies between objects, making it easier to modify and extend the codebase without impacting other parts of the system.\n",
    "\n",
    "d. Simplifying Testing and Debugging: Composition allows you to isolate and test individual components independently, making it easier to identify and fix bugs. This simplifies the testing and debugging process, leading to more reliable and maintainable code.\n",
    "\n",
    "\n",
    "\n",
    "\n",
    "\n",
    "\n"
   ]
  },
  {
   "cell_type": "markdown",
   "id": "ae3b2ab3-02db-404a-b621-54cc0008022e",
   "metadata": {},
   "source": [
    "16.Here's a Python class for a computer game character using composition to represent attributes like weapons, armor, and inventory:"
   ]
  },
  {
   "cell_type": "code",
   "execution_count": null,
   "id": "dc4dc71b-cc7d-4fd9-a859-a2c95a0c67ff",
   "metadata": {},
   "outputs": [],
   "source": [
    "class Weapon:\n",
    "    def __init__(self, name, damage):\n",
    "        self.name = name\n",
    "        self.damage = damage\n",
    "\n",
    "class Armor:\n",
    "    def __init__(self, name, defense):\n",
    "        self.name = name\n",
    "        self.defense = defense\n",
    "\n",
    "class Inventory:\n",
    "    def __init__(self):\n",
    "        self.items = []\n",
    "\n",
    "    def add_item(self, item):\n",
    "        self.items.append(item)\n",
    "\n",
    "class Character:\n",
    "    def __init__(self, name):\n",
    "        self.name = name\n",
    "        self.weapon = None\n",
    "        self.armor = None\n",
    "        self.inventory = Inventory()\n",
    "\n",
    "    def equip_weapon(self, weapon):\n",
    "        self.weapon = weapon\n",
    "\n",
    "    def equip_armor(self, armor):\n",
    "        self.armor = armor\n",
    "\n",
    "# Example usage:\n",
    "sword = Weapon(\"Sword\", 10)\n",
    "shield = Armor(\"Shield\", 5)\n",
    "\n",
    "character = Character(\"Player 1\")\n",
    "character.equip_weapon(sword)\n",
    "character.equip_armor(shield)\n",
    "character.inventory.add_item(\"Health Potion\")\n"
   ]
  },
  {
   "cell_type": "markdown",
   "id": "bcf3f25a-83e7-4912-bfaa-5d3ad22a366c",
   "metadata": {},
   "source": [
    "17.The concept of \"aggregation\" in composition refers to a relationship where one class (the containing class) contains instances of other classes (the composed objects) as parts of its internal state. Aggregation differs from simple composition in that it represents a \"has-a\" relationship where the containing class owns or has control over the composed objects, but the composed objects can exist independently of the containing class.\n",
    "In simple composition, the composed objects are tightly coupled with the containing class and typically have a shorter lifespan. In aggregation, the composed objects are more loosely coupled, and their lifespan may extend beyond that of the containing class."
   ]
  },
  {
   "cell_type": "markdown",
   "id": "8a802ea9-32e6-4e27-b6a8-f4caa90fd32a",
   "metadata": {},
   "source": [
    "18.Here's a Python class for a house using composition to represent rooms, furniture, and appliances:\n",
    "python\n"
   ]
  },
  {
   "cell_type": "code",
   "execution_count": null,
   "id": "cc35a940-9c05-4bdb-a280-4876b652748b",
   "metadata": {},
   "outputs": [],
   "source": [
    "class Furniture:\n",
    "    def __init__(self, name):\n",
    "        self.name = name\n",
    "\n",
    "class Appliance:\n",
    "    def __init__(self, name):\n",
    "        self.name = name\n",
    "\n",
    "class Room:\n",
    "    def __init__(self, name):\n",
    "        self.name = name\n",
    "        self.furniture = []\n",
    "        self.appliances = []\n",
    "\n",
    "    def add_furniture(self, furniture):\n",
    "        self.furniture.append(furniture)\n",
    "\n",
    "    def add_appliance(self, appliance):\n",
    "        self.appliances.append(appliance)\n",
    "\n",
    "class House:\n",
    "    def __init__(self):\n",
    "        self.rooms = []\n",
    "\n",
    "    def add_room(self, room):\n",
    "        self.rooms.append(room)\n",
    "\n",
    "# Example usage:\n",
    "kitchen = Room(\"Kitchen\")\n",
    "kitchen.add_appliance(Appliance(\"Refrigerator\"))\n",
    "kitchen.add_furniture(Furniture(\"Table\"))\n",
    "\n",
    "living_room = Room(\"Living Room\")\n",
    "living_room.add_furniture(Furniture(\"Sofa\"))\n",
    "living_room.add_appliance(Appliance(\"Television\"))\n",
    "\n",
    "house = House()\n",
    "house.add_room(kitchen)\n",
    "house.add_room(living_room)\n"
   ]
  },
  {
   "cell_type": "markdown",
   "id": "8dd05995-4df3-434f-88e9-f2eb0cc2b336",
   "metadata": {},
   "source": [
    "19.To achieve flexibility in composed objects by allowing them to be replaced or modified dynamically at runtime, you can use techniques such as:\n",
    "a. Dynamic Composition: Allow objects to be composed and decomposed dynamically at runtime. This involves providing methods for adding, removing, or replacing composed objects within the containing class.\n",
    "\n",
    "b. Dependency Injection: Use dependency injection to inject composed objects into the containing class at runtime. This allows you to replace or modify composed objects without modifying the containing class itself.\n",
    "\n",
    "c. Abstract Factory Pattern: Use the abstract factory pattern to create families of related objects dynamically at runtime. This allows you to switch between different families of composed objects based on runtime conditions.\n",
    "\n",
    "d. Event-driven Architecture: Use events and event handlers to trigger actions in response to changes in composed objects. This allows you to dynamically react to changes in the composed objects and adjust the behavior of the containing class accordingly."
   ]
  },
  {
   "cell_type": "markdown",
   "id": "f78245da-f2df-435f-8ecb-61e1513833b3",
   "metadata": {},
   "source": [
    "20.Certainly! Here's a Python class for a social media application using composition to represent users, posts, and comments:"
   ]
  },
  {
   "cell_type": "code",
   "execution_count": null,
   "id": "aca87f9e-0777-4cd3-8a94-56dbc1185737",
   "metadata": {},
   "outputs": [],
   "source": [
    "class Comment:\n",
    "    def __init__(self, text, author):\n",
    "        self.text = text\n",
    "        self.author = author\n",
    "\n",
    "class Post:\n",
    "    def __init__(self, content, author):\n",
    "        self.content = content\n",
    "        self.author = author\n",
    "        self.comments = []\n",
    "\n",
    "    def add_comment(self, comment):\n",
    "        self.comments.append(comment)\n",
    "\n",
    "class User:\n",
    "    def __init__(self, username):\n",
    "        self.username = username\n",
    "        self.posts = []\n",
    "\n",
    "    def create_post(self, content):\n",
    "        post = Post(content, self)\n",
    "        self.posts.append(post)\n",
    "        return post\n",
    "\n",
    "# Example usage:\n",
    "user1 = User(\"Alice\")\n",
    "user2 = User(\"Bob\")\n",
    "\n",
    "post1 = user1.create_post(\"Hello, world!\")\n",
    "post2 = user2.create_post(\"Just another day on social media.\")\n",
    "\n",
    "comment1 = Comment(\"Nice post!\", user2)\n",
    "post1.add_comment(comment1)\n",
    "\n",
    "comment2 = Comment(\"Thanks!\", user1)\n",
    "post2.add_comment(comment2)\n",
    "\n",
    "# Accessing comments on a post\n",
    "print(\"Comments on post 1:\")\n",
    "for comment in post1.comments:\n",
    "    print(f\"- {comment.text} by {comment.author.username}\")\n",
    "\n",
    "print(\"\\nComments on post 2:\")\n",
    "for comment in post2.comments:\n",
    "    print(f\"- {comment.text} by {comment.author.username}\")\n"
   ]
  },
  {
   "cell_type": "markdown",
   "id": "027d4fa7-436b-482b-ae5d-b748c25cd34a",
   "metadata": {},
   "source": [
    "This class structure allows for the creation of users who can create posts, and other users can comment on those posts. Each post can have multiple comments associated with it. This is a basic representation of a social media application using composition."
   ]
  },
  {
   "cell_type": "code",
   "execution_count": null,
   "id": "1aeab679-ab7e-453f-8305-d77e0fad5401",
   "metadata": {},
   "outputs": [],
   "source": []
  }
 ],
 "metadata": {
  "kernelspec": {
   "display_name": "Python 3 (ipykernel)",
   "language": "python",
   "name": "python3"
  },
  "language_info": {
   "codemirror_mode": {
    "name": "ipython",
    "version": 3
   },
   "file_extension": ".py",
   "mimetype": "text/x-python",
   "name": "python",
   "nbconvert_exporter": "python",
   "pygments_lexer": "ipython3",
   "version": "3.10.8"
  }
 },
 "nbformat": 4,
 "nbformat_minor": 5
}
